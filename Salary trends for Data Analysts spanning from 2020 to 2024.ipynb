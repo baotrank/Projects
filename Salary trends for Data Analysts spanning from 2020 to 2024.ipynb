{
 "cells": [
  {
   "cell_type": "markdown",
   "id": "357e54fa",
   "metadata": {},
   "source": [
    "# Importing libraries    "
   ]
  },
  {
   "cell_type": "code",
   "execution_count": 1,
   "id": "0c60cebe",
   "metadata": {},
   "outputs": [],
   "source": [
    "#for data manipulation aand analysis\n",
    "import pandas as pd\n",
    "\n",
    "#for creating plots and visualizationsabs\n",
    "import matplotlib.pyplot as plt \n",
    "\n",
    "#for creating more complex plots than Matplot\n",
    "import seaborn as sns \n",
    "\n",
    "#for numerical computing\n",
    "import numpy as np "
   ]
  },
  {
   "cell_type": "markdown",
   "id": "e9b533f8",
   "metadata": {},
   "source": [
    "# Reading Data"
   ]
  },
  {
   "cell_type": "code",
   "execution_count": 2,
   "id": "125a8d68",
   "metadata": {},
   "outputs": [
    {
     "data": {
      "text/html": [
       "<div>\n",
       "<style scoped>\n",
       "    .dataframe tbody tr th:only-of-type {\n",
       "        vertical-align: middle;\n",
       "    }\n",
       "\n",
       "    .dataframe tbody tr th {\n",
       "        vertical-align: top;\n",
       "    }\n",
       "\n",
       "    .dataframe thead th {\n",
       "        text-align: right;\n",
       "    }\n",
       "</style>\n",
       "<table border=\"1\" class=\"dataframe\">\n",
       "  <thead>\n",
       "    <tr style=\"text-align: right;\">\n",
       "      <th></th>\n",
       "      <th>work_year</th>\n",
       "      <th>experience_level</th>\n",
       "      <th>employment_type</th>\n",
       "      <th>job_title</th>\n",
       "      <th>salary</th>\n",
       "      <th>salary_currency</th>\n",
       "      <th>salary_in_usd</th>\n",
       "      <th>employee_residence</th>\n",
       "      <th>remote_ratio</th>\n",
       "      <th>company_location</th>\n",
       "      <th>company_size</th>\n",
       "    </tr>\n",
       "  </thead>\n",
       "  <tbody>\n",
       "    <tr>\n",
       "      <th>0</th>\n",
       "      <td>2021</td>\n",
       "      <td>MI</td>\n",
       "      <td>FT</td>\n",
       "      <td>Data Scientist</td>\n",
       "      <td>30400000</td>\n",
       "      <td>CLP</td>\n",
       "      <td>40038</td>\n",
       "      <td>CL</td>\n",
       "      <td>100</td>\n",
       "      <td>CL</td>\n",
       "      <td>L</td>\n",
       "    </tr>\n",
       "    <tr>\n",
       "      <th>1</th>\n",
       "      <td>2021</td>\n",
       "      <td>MI</td>\n",
       "      <td>FT</td>\n",
       "      <td>BI Data Analyst</td>\n",
       "      <td>11000000</td>\n",
       "      <td>HUF</td>\n",
       "      <td>36259</td>\n",
       "      <td>HU</td>\n",
       "      <td>50</td>\n",
       "      <td>US</td>\n",
       "      <td>L</td>\n",
       "    </tr>\n",
       "    <tr>\n",
       "      <th>2</th>\n",
       "      <td>2020</td>\n",
       "      <td>MI</td>\n",
       "      <td>FT</td>\n",
       "      <td>Data Scientist</td>\n",
       "      <td>11000000</td>\n",
       "      <td>HUF</td>\n",
       "      <td>35735</td>\n",
       "      <td>HU</td>\n",
       "      <td>50</td>\n",
       "      <td>HU</td>\n",
       "      <td>L</td>\n",
       "    </tr>\n",
       "    <tr>\n",
       "      <th>3</th>\n",
       "      <td>2021</td>\n",
       "      <td>MI</td>\n",
       "      <td>FT</td>\n",
       "      <td>ML Engineer</td>\n",
       "      <td>8500000</td>\n",
       "      <td>JPY</td>\n",
       "      <td>77364</td>\n",
       "      <td>JP</td>\n",
       "      <td>50</td>\n",
       "      <td>JP</td>\n",
       "      <td>S</td>\n",
       "    </tr>\n",
       "    <tr>\n",
       "      <th>4</th>\n",
       "      <td>2022</td>\n",
       "      <td>SE</td>\n",
       "      <td>FT</td>\n",
       "      <td>Lead Machine Learning Engineer</td>\n",
       "      <td>7500000</td>\n",
       "      <td>INR</td>\n",
       "      <td>95386</td>\n",
       "      <td>IN</td>\n",
       "      <td>50</td>\n",
       "      <td>IN</td>\n",
       "      <td>L</td>\n",
       "    </tr>\n",
       "  </tbody>\n",
       "</table>\n",
       "</div>"
      ],
      "text/plain": [
       "   work_year experience_level employment_type                       job_title  \\\n",
       "0       2021               MI              FT                  Data Scientist   \n",
       "1       2021               MI              FT                 BI Data Analyst   \n",
       "2       2020               MI              FT                  Data Scientist   \n",
       "3       2021               MI              FT                     ML Engineer   \n",
       "4       2022               SE              FT  Lead Machine Learning Engineer   \n",
       "\n",
       "     salary salary_currency  salary_in_usd employee_residence  remote_ratio  \\\n",
       "0  30400000             CLP          40038                 CL           100   \n",
       "1  11000000             HUF          36259                 HU            50   \n",
       "2  11000000             HUF          35735                 HU            50   \n",
       "3   8500000             JPY          77364                 JP            50   \n",
       "4   7500000             INR          95386                 IN            50   \n",
       "\n",
       "  company_location company_size  \n",
       "0               CL            L  \n",
       "1               US            L  \n",
       "2               HU            L  \n",
       "3               JP            S  \n",
       "4               IN            L  "
      ]
     },
     "execution_count": 2,
     "metadata": {},
     "output_type": "execute_result"
    }
   ],
   "source": [
    "df = pd.read_csv(\"DataScience_salaries_2024.csv\")\n",
    "df.head()"
   ]
  },
  {
   "cell_type": "markdown",
   "id": "cd6fa761",
   "metadata": {},
   "source": [
    "# Data Cleaning and EDA"
   ]
  },
  {
   "cell_type": "code",
   "execution_count": 3,
   "id": "f8ed900c",
   "metadata": {},
   "outputs": [
    {
     "data": {
      "text/plain": [
       "(14838, 11)"
      ]
     },
     "execution_count": 3,
     "metadata": {},
     "output_type": "execute_result"
    }
   ],
   "source": [
    "#get the dimensions of the dataframe - the number of rows and columns\n",
    "df.shape"
   ]
  },
  {
   "cell_type": "code",
   "execution_count": 4,
   "id": "18014e61",
   "metadata": {},
   "outputs": [
    {
     "name": "stdout",
     "output_type": "stream",
     "text": [
      "<class 'pandas.core.frame.DataFrame'>\n",
      "RangeIndex: 14838 entries, 0 to 14837\n",
      "Data columns (total 11 columns):\n",
      " #   Column              Non-Null Count  Dtype \n",
      "---  ------              --------------  ----- \n",
      " 0   work_year           14838 non-null  int64 \n",
      " 1   experience_level    14838 non-null  object\n",
      " 2   employment_type     14838 non-null  object\n",
      " 3   job_title           14838 non-null  object\n",
      " 4   salary              14838 non-null  int64 \n",
      " 5   salary_currency     14838 non-null  object\n",
      " 6   salary_in_usd       14838 non-null  int64 \n",
      " 7   employee_residence  14838 non-null  object\n",
      " 8   remote_ratio        14838 non-null  int64 \n",
      " 9   company_location    14838 non-null  object\n",
      " 10  company_size        14838 non-null  object\n",
      "dtypes: int64(4), object(7)\n",
      "memory usage: 1.2+ MB\n"
     ]
    }
   ],
   "source": [
    "#get the information about the Dataframe's columns, their data types, num, of non-null values, and memory usage\n",
    "df.info()"
   ]
  },
  {
   "cell_type": "code",
   "execution_count": 5,
   "id": "93ec5a09",
   "metadata": {},
   "outputs": [
    {
     "data": {
      "text/plain": [
       "work_year             0\n",
       "experience_level      0\n",
       "employment_type       0\n",
       "job_title             0\n",
       "salary                0\n",
       "salary_currency       0\n",
       "salary_in_usd         0\n",
       "employee_residence    0\n",
       "remote_ratio          0\n",
       "company_location      0\n",
       "company_size          0\n",
       "dtype: int64"
      ]
     },
     "execution_count": 5,
     "metadata": {},
     "output_type": "execute_result"
    }
   ],
   "source": [
    "#check for null values\n",
    "df.isna().sum()"
   ]
  },
  {
   "cell_type": "raw",
   "id": "6164912c",
   "metadata": {},
   "source": [
    "-> There is no missing values"
   ]
  },
  {
   "cell_type": "code",
   "execution_count": 6,
   "id": "934783b5",
   "metadata": {},
   "outputs": [
    {
     "data": {
      "text/plain": [
       "5711"
      ]
     },
     "execution_count": 6,
     "metadata": {},
     "output_type": "execute_result"
    }
   ],
   "source": [
    "#Check number of duplicates\n",
    "df.duplicated(keep=\"first\").sum()"
   ]
  },
  {
   "cell_type": "code",
   "execution_count": 7,
   "id": "85851910",
   "metadata": {},
   "outputs": [],
   "source": [
    "#remove duplicates\n",
    "df.drop_duplicates(inplace=True)"
   ]
  },
  {
   "cell_type": "code",
   "execution_count": 8,
   "id": "4431eca2",
   "metadata": {},
   "outputs": [
    {
     "data": {
      "text/plain": [
       "(9127, 11)"
      ]
     },
     "execution_count": 8,
     "metadata": {},
     "output_type": "execute_result"
    }
   ],
   "source": [
    "#check the dimension of the dataframe again after data cleaning\n",
    "df.shape"
   ]
  },
  {
   "cell_type": "code",
   "execution_count": 9,
   "id": "4b284045",
   "metadata": {},
   "outputs": [
    {
     "data": {
      "text/html": [
       "<div>\n",
       "<style scoped>\n",
       "    .dataframe tbody tr th:only-of-type {\n",
       "        vertical-align: middle;\n",
       "    }\n",
       "\n",
       "    .dataframe tbody tr th {\n",
       "        vertical-align: top;\n",
       "    }\n",
       "\n",
       "    .dataframe thead th {\n",
       "        text-align: right;\n",
       "    }\n",
       "</style>\n",
       "<table border=\"1\" class=\"dataframe\">\n",
       "  <thead>\n",
       "    <tr style=\"text-align: right;\">\n",
       "      <th></th>\n",
       "      <th>work_year</th>\n",
       "      <th>salary</th>\n",
       "      <th>salary_in_usd</th>\n",
       "      <th>remote_ratio</th>\n",
       "    </tr>\n",
       "  </thead>\n",
       "  <tbody>\n",
       "    <tr>\n",
       "      <th>count</th>\n",
       "      <td>9127.000000</td>\n",
       "      <td>9.127000e+03</td>\n",
       "      <td>9127.000000</td>\n",
       "      <td>9127.000000</td>\n",
       "    </tr>\n",
       "    <tr>\n",
       "      <th>mean</th>\n",
       "      <td>2023.144735</td>\n",
       "      <td>1.715814e+05</td>\n",
       "      <td>146752.407363</td>\n",
       "      <td>36.309850</td>\n",
       "    </tr>\n",
       "    <tr>\n",
       "      <th>std</th>\n",
       "      <td>0.779968</td>\n",
       "      <td>4.514935e+05</td>\n",
       "      <td>73414.901761</td>\n",
       "      <td>47.386109</td>\n",
       "    </tr>\n",
       "    <tr>\n",
       "      <th>min</th>\n",
       "      <td>2020.000000</td>\n",
       "      <td>1.400000e+04</td>\n",
       "      <td>15000.000000</td>\n",
       "      <td>0.000000</td>\n",
       "    </tr>\n",
       "    <tr>\n",
       "      <th>25%</th>\n",
       "      <td>2023.000000</td>\n",
       "      <td>9.545150e+04</td>\n",
       "      <td>95000.000000</td>\n",
       "      <td>0.000000</td>\n",
       "    </tr>\n",
       "    <tr>\n",
       "      <th>50%</th>\n",
       "      <td>2023.000000</td>\n",
       "      <td>1.400000e+05</td>\n",
       "      <td>138400.000000</td>\n",
       "      <td>0.000000</td>\n",
       "    </tr>\n",
       "    <tr>\n",
       "      <th>75%</th>\n",
       "      <td>2024.000000</td>\n",
       "      <td>1.885000e+05</td>\n",
       "      <td>185900.000000</td>\n",
       "      <td>100.000000</td>\n",
       "    </tr>\n",
       "    <tr>\n",
       "      <th>max</th>\n",
       "      <td>2024.000000</td>\n",
       "      <td>3.040000e+07</td>\n",
       "      <td>800000.000000</td>\n",
       "      <td>100.000000</td>\n",
       "    </tr>\n",
       "  </tbody>\n",
       "</table>\n",
       "</div>"
      ],
      "text/plain": [
       "         work_year        salary  salary_in_usd  remote_ratio\n",
       "count  9127.000000  9.127000e+03    9127.000000   9127.000000\n",
       "mean   2023.144735  1.715814e+05  146752.407363     36.309850\n",
       "std       0.779968  4.514935e+05   73414.901761     47.386109\n",
       "min    2020.000000  1.400000e+04   15000.000000      0.000000\n",
       "25%    2023.000000  9.545150e+04   95000.000000      0.000000\n",
       "50%    2023.000000  1.400000e+05  138400.000000      0.000000\n",
       "75%    2024.000000  1.885000e+05  185900.000000    100.000000\n",
       "max    2024.000000  3.040000e+07  800000.000000    100.000000"
      ]
     },
     "execution_count": 9,
     "metadata": {},
     "output_type": "execute_result"
    }
   ],
   "source": [
    "#get descriptive statistics\n",
    "df.describe()"
   ]
  },
  {
   "cell_type": "code",
   "execution_count": 10,
   "id": "14e0579c",
   "metadata": {},
   "outputs": [
    {
     "data": {
      "text/plain": [
       "2020      75\n",
       "2021     216\n",
       "2022    1113\n",
       "2024    3091\n",
       "2023    4632\n",
       "Name: work_year, dtype: int64"
      ]
     },
     "execution_count": 10,
     "metadata": {},
     "output_type": "execute_result"
    }
   ],
   "source": [
    "#demand for data science jobs by year\n",
    "jobs_count = df.work_year.value_counts()\n",
    "sorted_jobs_count = jobs_count.sort_values(ascending=True)\n",
    "sorted_jobs_count"
   ]
  },
  {
   "cell_type": "markdown",
   "id": "ffcc15ff",
   "metadata": {},
   "source": [
    "-> There is an uptrend in the demand for data science positions from 2020 to 2024."
   ]
  },
  {
   "cell_type": "code",
   "execution_count": 11,
   "id": "f3c9517b",
   "metadata": {},
   "outputs": [
    {
     "data": {
      "text/plain": [
       "SE    5414\n",
       "MI    2466\n",
       "EN     893\n",
       "EX     354\n",
       "Name: experience_level, dtype: int64"
      ]
     },
     "execution_count": 11,
     "metadata": {},
     "output_type": "execute_result"
    }
   ],
   "source": [
    "#demand for data science positions by level\n",
    "df.experience_level.value_counts()"
   ]
  },
  {
   "cell_type": "markdown",
   "id": "ee7c2cbc",
   "metadata": {},
   "source": [
    "-> Most employees in this sector are mid-seniors and seniors."
   ]
  },
  {
   "cell_type": "code",
   "execution_count": 12,
   "id": "4a5ed1a2",
   "metadata": {},
   "outputs": [
    {
     "data": {
      "text/plain": [
       "FT    9061\n",
       "PT      27\n",
       "CT      26\n",
       "FL      13\n",
       "Name: employment_type, dtype: int64"
      ]
     },
     "execution_count": 12,
     "metadata": {},
     "output_type": "execute_result"
    }
   ],
   "source": [
    "#job counts by employement type\n",
    "df.employment_type.value_counts()"
   ]
  },
  {
   "cell_type": "markdown",
   "id": "16ada499",
   "metadata": {},
   "source": [
    "-> Almost all positions (99.35) within the field of data science necessitate full-time employment."
   ]
  },
  {
   "cell_type": "code",
   "execution_count": 13,
   "id": "9d8ca60b",
   "metadata": {},
   "outputs": [
    {
     "data": {
      "text/plain": [
       "M    8323\n",
       "L     624\n",
       "S     180\n",
       "Name: company_size, dtype: int64"
      ]
     },
     "execution_count": 13,
     "metadata": {},
     "output_type": "execute_result"
    }
   ],
   "source": [
    "#count of companies by size\n",
    "df.company_size.value_counts()"
   ]
  },
  {
   "cell_type": "markdown",
   "id": "535d8934",
   "metadata": {},
   "source": [
    "-> The majority of companies offering positions in the field of data science are categorized as medium-sized or larger."
   ]
  },
  {
   "cell_type": "code",
   "execution_count": null,
   "id": "638ae5a2",
   "metadata": {},
   "outputs": [],
   "source": [
    "#count of jobs by remote ratio\n",
    "df.remote_ratio.value_counts()"
   ]
  },
  {
   "cell_type": "markdown",
   "id": "895bb54d",
   "metadata": {},
   "source": [
    "-> The majority of companies offer either on-site or remote working arrangments."
   ]
  },
  {
   "cell_type": "code",
   "execution_count": null,
   "id": "49a72912",
   "metadata": {},
   "outputs": [],
   "source": [
    "#count of jobs by salary currency\n",
    "df.salary_currency.value_counts().head(5)"
   ]
  },
  {
   "cell_type": "markdown",
   "id": "a81b4174",
   "metadata": {},
   "source": [
    "-> The majority of jobs arr paid in USD."
   ]
  },
  {
   "cell_type": "code",
   "execution_count": null,
   "id": "09c4a9f8",
   "metadata": {},
   "outputs": [],
   "source": [
    "max_salary = df.groupby('job_title')['salary_in_usd'].max().reset_index()\n",
    "sorted_max_salary = max_salary.sort_values(by='salary_in_usd', ascending=False)\n",
    "sorted_max_salary"
   ]
  },
  {
   "cell_type": "code",
   "execution_count": null,
   "id": "6d1b4d0d",
   "metadata": {},
   "outputs": [],
   "source": [
    "#Count of jobs by title\n",
    "df.job_title.value_counts().head(10)"
   ]
  },
  {
   "cell_type": "markdown",
   "id": "0cf62a31",
   "metadata": {},
   "source": [
    "-> One of the most sought-after roles in data science is filled by data analysts."
   ]
  },
  {
   "cell_type": "code",
   "execution_count": null,
   "id": "6d9de617",
   "metadata": {},
   "outputs": [],
   "source": [
    "#filter a dataframe which only includes rows where the job_title column matches the value \"Data Analyst\"\n",
    "job_position = \"Data Analyst\"\n",
    "filtered_df = df[df['job_title'] == job_position]"
   ]
  },
  {
   "cell_type": "code",
   "execution_count": null,
   "id": "202dc335",
   "metadata": {},
   "outputs": [],
   "source": [
    "#display the mean salary of data analysts by year\n",
    "filtered_df.groupby('work_year')['salary_in_usd'].mean()"
   ]
  },
  {
   "cell_type": "markdown",
   "id": "a1cabbb1",
   "metadata": {},
   "source": [
    "-> The average salary of data analysts is rising annually. "
   ]
  },
  {
   "cell_type": "code",
   "execution_count": null,
   "id": "e9aac199",
   "metadata": {},
   "outputs": [],
   "source": [
    "sal_by_ex = filtered_df.groupby('experience_level')['salary_in_usd'].mean().reset_index()\n",
    "avg_salary_by_exp = sal_by_ex.sort_values(by='salary_in_usd', ascending=True)\n",
    "avg_salary_by_exp"
   ]
  },
  {
   "cell_type": "markdown",
   "id": "762d4e99",
   "metadata": {},
   "source": [
    "-> The average salary for data analysts rises in correlation with their level of experience."
   ]
  },
  {
   "cell_type": "code",
   "execution_count": null,
   "id": "ec9be26b",
   "metadata": {},
   "outputs": [],
   "source": [
    "#select columns from the dataframe 'df' - excluding those of type 'object'\n",
    "num_col = df.select_dtypes(exclude='object')"
   ]
  },
  {
   "cell_type": "code",
   "execution_count": null,
   "id": "2770f0de",
   "metadata": {},
   "outputs": [],
   "source": [
    "#summary statistics (min & max) of the numerical columns in the dataframe \"num_col\"\n",
    "num_col.describe().loc[[\"min\",\"max\"],:].T"
   ]
  },
  {
   "cell_type": "markdown",
   "id": "f80ab37a",
   "metadata": {},
   "source": [
    "# Data Visualization"
   ]
  },
  {
   "cell_type": "code",
   "execution_count": null,
   "id": "053d5d15",
   "metadata": {},
   "outputs": [],
   "source": [
    "avg_data_salary = df.groupby('work_year')['salary_in_usd'].mean()"
   ]
  },
  {
   "cell_type": "code",
   "execution_count": null,
   "id": "868d1459",
   "metadata": {},
   "outputs": [],
   "source": [
    "avg_analyst_salary = filtered_df.groupby('work_year')['salary_in_usd'].mean()"
   ]
  },
  {
   "cell_type": "code",
   "execution_count": null,
   "id": "7eb0f50d",
   "metadata": {},
   "outputs": [],
   "source": [
    "#visually compare the annual mean salary of data analysts with that of the market\n",
    "x_variables = [str(index) for  index in list(avg_data_salary.index)]\n",
    "values1 = [int(value) for value in list(avg_analyst_salary.values)]  # Values for the first cluster\n",
    "values2 = [int(value) for value in list(avg_data_salary.values)]  # Values for the second cluster\n",
    "\n",
    "# Setting the positions for the bars\n",
    "x = np.arange(len(x_variables))\n",
    "width = 0.35  # Width of the bars\n",
    "\n",
    "# Creating the clustered bar plot\n",
    "fig, ax = plt.subplots()\n",
    "bars1 = ax.bar(x - width/2, values1, width, label='Data Analyst')\n",
    "bars2 = ax.bar(x + width/2, values2, width, label='Data Science Jobs')\n",
    "\n",
    "# Adding labels and title\n",
    "ax.set_xlabel('Work Year')\n",
    "ax.set_ylabel('Mean Salary in USD')\n",
    "ax.set_title('Mean Salary by Work Year')\n",
    "ax.set_xticks(x)\n",
    "ax.set_xticklabels(x_variables)\n",
    "ax.legend()\n",
    "ax.set_ylim(bottom=0)\n",
    "\n",
    "plt.show()"
   ]
  },
  {
   "cell_type": "markdown",
   "id": "13a32edd",
   "metadata": {},
   "source": [
    "-> This chart illustrates the correlation between the average salary of data analysts and that of the market."
   ]
  },
  {
   "cell_type": "code",
   "execution_count": null,
   "id": "aa7f0c68",
   "metadata": {},
   "outputs": [],
   "source": [
    "plt.bar(avg_salary_by_exp['experience_level'],avg_salary_by_exp['salary_in_usd'],color='orange',edgecolor='black')\n",
    "\n",
    "plt.xlabel(\"Experience Level\")\n",
    "plt.ylabel(\"Average Salary\")\n",
    "plt.title(\"Average Salary for Data Analysts by Experience\")"
   ]
  },
  {
   "cell_type": "markdown",
   "id": "a950189e",
   "metadata": {},
   "source": [
    "-> This chart depicts the relationship between the salary of data analysts and years of experience."
   ]
  },
  {
   "cell_type": "code",
   "execution_count": null,
   "id": "23055182",
   "metadata": {},
   "outputs": [],
   "source": [
    "#check if Data Analysts lies within top 10 data science job title\n",
    "top_jobs_title = df['job_title'].value_counts().head(10)\n",
    "top_jobs_title"
   ]
  },
  {
   "cell_type": "code",
   "execution_count": null,
   "id": "c67a3f80",
   "metadata": {
    "scrolled": true
   },
   "outputs": [],
   "source": [
    "plt.figure(figsize=(4,4))\n",
    "plt.pie(top_jobs_title, labels=top_jobs_title.index, autopct='%1.1f%%')\n",
    "plt.title(f'Top 10 Job Titles Distribution')\n",
    "plt.show()"
   ]
  },
  {
   "cell_type": "markdown",
   "id": "ece8fcaf",
   "metadata": {},
   "source": [
    "-> The distribution of data science job titles ranks \"Data Analyst\" among the top 10."
   ]
  },
  {
   "cell_type": "code",
   "execution_count": null,
   "id": "e4c91bb6",
   "metadata": {},
   "outputs": [],
   "source": []
  }
 ],
 "metadata": {
  "kernelspec": {
   "display_name": "Python 3 (ipykernel)",
   "language": "python",
   "name": "python3"
  },
  "language_info": {
   "codemirror_mode": {
    "name": "ipython",
    "version": 3
   },
   "file_extension": ".py",
   "mimetype": "text/x-python",
   "name": "python",
   "nbconvert_exporter": "python",
   "pygments_lexer": "ipython3",
   "version": "3.11.4"
  }
 },
 "nbformat": 4,
 "nbformat_minor": 5
}
